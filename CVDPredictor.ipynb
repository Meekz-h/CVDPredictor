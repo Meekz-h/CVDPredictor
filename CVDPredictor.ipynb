{
 "cells": [
  {
   "cell_type": "markdown",
   "metadata": {},
   "source": [
    "# Cardiovascular Disease (CVD) PREDICTOR \n",
    "\n",
    "\n",
    "## Data processing and anaylsis"
   ]
  },
  {
   "cell_type": "code",
   "execution_count": null,
   "metadata": {},
   "outputs": [],
   "source": [
    "import pandas as pd \n",
    "import matplotlib.pyplot\n",
    "import seaborn as sns\n",
    "import numpy as np\n",
    "from sklearn import preprocessing\n",
    "from sklearn.model_selection import train_test_split\n",
    "import warnings\n",
    "from sklearn.linear_model import LogisticRegression\n",
    "from sklearn.metrics import ConfusionMatrixDisplay\n",
    "from sklearn.model_selection import KFold, cross_val_score\n",
    "import pickle\n",
    "\n",
    "warnings.filterwarnings('ignore')\n",
    "\n",
    "df = pd.read_csv(\"./heart_data.csv\")\n",
    "df"
   ]
  },
  {
   "cell_type": "code",
   "execution_count": null,
   "metadata": {},
   "outputs": [],
   "source": [
    "df.info()\n"
   ]
  },
  {
   "cell_type": "markdown",
   "metadata": {},
   "source": [
    "# Features\n",
    "The features selected to be looked at are: Age, Sex, Max Heart Rate and Exercise Angina (pain)"
   ]
  },
  {
   "cell_type": "markdown",
   "metadata": {},
   "source": [
    "#  Age and Heart Disease\n"
   ]
  },
  {
   "cell_type": "code",
   "execution_count": null,
   "metadata": {},
   "outputs": [],
   "source": [
    "\n",
    "\n",
    "fig, ax = matplotlib.pyplot.subplots(1,2, figsize = (15,5))\n",
    "sns.histplot(data=df, x=\"Age\", binwidth=1, kde=True,ax=ax[0])\n",
    "sns.histplot(data=df, x=\"Age\", hue=\"HeartDisease\", binwidth=1, kde=True, ax=ax[1])\n",
    "\n"
   ]
  },
  {
   "cell_type": "markdown",
   "metadata": {},
   "source": [
    "#  Sex and Heart Disease"
   ]
  },
  {
   "cell_type": "code",
   "execution_count": null,
   "metadata": {},
   "outputs": [],
   "source": [
    "\n",
    "\n",
    "fig, ax = matplotlib.pyplot.subplots(1,1, figsize = (7,5))\n",
    "sns.countplot(data=df, x=\"Sex\", hue=\"HeartDisease\", ax=ax)"
   ]
  },
  {
   "cell_type": "markdown",
   "metadata": {},
   "source": [
    "# MaxHR and Heart Disease"
   ]
  },
  {
   "cell_type": "code",
   "execution_count": null,
   "metadata": {},
   "outputs": [],
   "source": [
    "fig, ax = matplotlib.pyplot.subplots(1, 1, figsize=(7,5))\n",
    "sns.histplot(data=df,x='MaxHR',hue='HeartDisease',binwidth=5, kde=True, ax=ax)"
   ]
  },
  {
   "cell_type": "markdown",
   "metadata": {},
   "source": [
    "# Exercise Angina (pain) and Heart Disease"
   ]
  },
  {
   "cell_type": "code",
   "execution_count": null,
   "metadata": {},
   "outputs": [],
   "source": [
    "fig, ax = matplotlib.pyplot.subplots(1, 1, figsize=(7,5))\n",
    "sns.countplot(data=df, x='ExerciseAngina', hue='HeartDisease', ax=ax)"
   ]
  },
  {
   "cell_type": "markdown",
   "metadata": {},
   "source": [
    "# Model Development"
   ]
  },
  {
   "cell_type": "code",
   "execution_count": null,
   "metadata": {},
   "outputs": [],
   "source": [
    "test, train = train_test_split(df, test_size =0.333, random_state=41)\n",
    "X = df[['Age','MaxHR','Sex','ExerciseAngina']].copy()\n",
    "y = df[['HeartDisease']].copy()\n",
    "\n",
    "X_train = train[['Age','MaxHR','Sex','ExerciseAngina']].copy()\n",
    "y_train = train[['HeartDisease']].copy()\n",
    "\n",
    "X_test = test[['Age', 'MaxHR', 'Sex', 'ExerciseAngina']].copy()\n",
    "y_test = test[['HeartDisease']].copy()\n",
    "\n",
    "min_max_scaler = preprocessing.MinMaxScaler()\n",
    "\n",
    "# Processing Data\n",
    "# Replacing M and F to 1 and 0, and Y and N to 1 and 0\n",
    "X[['Age', 'MaxHR']] = min_max_scaler.fit_transform(X[['Age', 'MaxHR']])\n",
    "X['Sex'] = (X['Sex'] == 'M').replace({True: 1, False: 0})\n",
    "X['ExerciseAngina'] = (X['ExerciseAngina'] == 'Y').replace({True: 1, False: 0})\n",
    "\n",
    "X_train[['Age', 'MaxHR']] = min_max_scaler.fit_transform(X_train[['Age', 'MaxHR']])\n",
    "X_train['Sex'] = (X_train['Sex'] == 'M').replace({True: 1, False: 0})\n",
    "X_train['ExerciseAngina'] = (X_train['ExerciseAngina'] == 'Y').replace({True: 1, False: 0})\n",
    "\n",
    "X_test[['Age', 'MaxHR']] = min_max_scaler.transform(X_test[['Age', 'MaxHR']]) # just transform, don't fit\n",
    "X_test['Sex'] = (X_test['Sex'] == 'M').replace({True: 1, False: 0})\n",
    "X_test['ExerciseAngina'] = (X_test['ExerciseAngina'] == 'Y').replace({True: 1, False: 0})\n",
    "\n",
    "\n",
    "# Model training\n",
    "\n",
    "lr_classifier = LogisticRegression(solver='liblinear', random_state=41)\n",
    "lr_classifier.fit(X_train, y_train)\n",
    "\n",
    "lr_classifier.score(X_test, y_test)\n",
    "\n",
    "\n"
   ]
  },
  {
   "cell_type": "markdown",
   "metadata": {},
   "source": [
    "The model achieved a score of 77%"
   ]
  },
  {
   "cell_type": "markdown",
   "metadata": {},
   "source": [
    "# Analysis"
   ]
  },
  {
   "cell_type": "markdown",
   "metadata": {},
   "source": [
    "# Confusion Matrix Display\n",
    "1 here represents heart disease, and 0 represents no heart disease"
   ]
  },
  {
   "cell_type": "code",
   "execution_count": null,
   "metadata": {},
   "outputs": [],
   "source": [
    "predictions = lr_classifier.predict(X)\n",
    "\n",
    "\n",
    "ConfusionMatrixDisplay.from_estimator(lr_classifier, X_test, y_test)\n",
    "\n"
   ]
  },
  {
   "cell_type": "markdown",
   "metadata": {},
   "source": [
    "# K folds Cross Validation"
   ]
  },
  {
   "cell_type": "code",
   "execution_count": null,
   "metadata": {},
   "outputs": [],
   "source": [
    "k_folds = KFold(n_splits = 5, shuffle=True)\n",
    "# The number of folds determines the test/train split for each iteration. \n",
    "# So 5 folds has 5 different mutually exclusive training sets. \n",
    "# That's a 1 to 4 (or .20 to .80) testing/training split for each of the 5 iterations.\n",
    "\n",
    "scores = cross_val_score(lr_classifier, X, y)\n",
    "# This shows the average score. Print 'scores' to see an array of individual iteration scores.\n",
    "print(\"Average Score: \", scores.mean())"
   ]
  },
  {
   "cell_type": "markdown",
   "metadata": {},
   "source": [
    "# Exporting the Model for Streamlit"
   ]
  },
  {
   "cell_type": "code",
   "execution_count": null,
   "metadata": {},
   "outputs": [],
   "source": [
    "\n",
    "pickle.dump(lr_classifier, open(\"./production.sav\", 'wb'))\n",
    "pickle.dump(min_max_scaler, open(\"./min_max_scaler.sav\", 'wb'))"
   ]
  }
 ],
 "metadata": {
  "kernelspec": {
   "display_name": "Python 3",
   "language": "python",
   "name": "python3"
  },
  "language_info": {
   "codemirror_mode": {
    "name": "ipython",
    "version": 3
   },
   "file_extension": ".py",
   "mimetype": "text/x-python",
   "name": "python",
   "nbconvert_exporter": "python",
   "pygments_lexer": "ipython3",
   "version": "3.13.2"
  }
 },
 "nbformat": 4,
 "nbformat_minor": 2
}
